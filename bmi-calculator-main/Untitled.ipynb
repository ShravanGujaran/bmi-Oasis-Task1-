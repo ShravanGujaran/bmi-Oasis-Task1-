{
 "cells": [
  {
   "cell_type": "code",
   "execution_count": 1,
   "id": "57ef5cbe",
   "metadata": {},
   "outputs": [
    {
     "name": "stdout",
     "output_type": "stream",
     "text": [
      "Please enter your height in inches: 172\n",
      "Please enter your weight in pound: 76\n",
      "Your Body Mass Index is:  1.81\n",
      "Underweight.\n"
     ]
    }
   ],
   "source": [
    "while True:\n",
    "    try:\n",
    "        # Taking user input\n",
    "        Height = float(input(\"Please enter your height in inches: \"))\n",
    "        Weight = float(input(\"Please enter your weight in pound: \"))\n",
    "    except ValueError:\n",
    "        # Validation error.\n",
    "        print(\"Please provide valid input.\")\n",
    "        continue  # Return to the start of the loop.\n",
    "    else:\n",
    "        if Height <= 0 or Weight <= 0:\n",
    "            print(\"Your input must not be zero or less.\")\n",
    "            continue\n",
    "        else:\n",
    "            # Calculate BMI\n",
    "            BMIIndex = round(Weight / (Height * Height) * 703, 2)\n",
    "\n",
    "            # Print the output\n",
    "            print(\"Your Body Mass Index is: \", BMIIndex)\n",
    "\n",
    "            if BMIIndex < 18.5:\n",
    "                print(\"Underweight.\")\n",
    "            elif BMIIndex <= 24.9:\n",
    "                print(\"Normal.\")\n",
    "            elif BMIIndex <= 29.9:\n",
    "                print(\"Overweight.\")\n",
    "            else:\n",
    "                print(\"Obese.\")\n",
    "        break\n"
   ]
  },
  {
   "cell_type": "code",
   "execution_count": null,
   "id": "fa39cf71",
   "metadata": {},
   "outputs": [],
   "source": []
  },
  {
   "cell_type": "code",
   "execution_count": null,
   "id": "4f2cf0d5",
   "metadata": {},
   "outputs": [],
   "source": []
  }
 ],
 "metadata": {
  "kernelspec": {
   "display_name": "Python 3 (ipykernel)",
   "language": "python",
   "name": "python3"
  },
  "language_info": {
   "codemirror_mode": {
    "name": "ipython",
    "version": 3
   },
   "file_extension": ".py",
   "mimetype": "text/x-python",
   "name": "python",
   "nbconvert_exporter": "python",
   "pygments_lexer": "ipython3",
   "version": "3.10.9"
  }
 },
 "nbformat": 4,
 "nbformat_minor": 5
}
